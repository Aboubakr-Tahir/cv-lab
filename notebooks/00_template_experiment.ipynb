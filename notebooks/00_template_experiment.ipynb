{
  "cells": [
    {
      "cell_type": "markdown",
      "metadata": {},
      "source": [
        "# Experiment Template\n",
        "\n",
        "Short description of the goal, dataset, and metric.\n",
        "\n",
        "- Dataset: CIFAR-10\n",
        "- Model: small CNN / ResNet18\n",
        "- Metric: Top-1 accuracy\n"
      ]
    },
    {
      "cell_type": "code",
      "execution_count": null,
      "metadata": {},
      "outputs": [],
      "source": [
        "# Optional: mount Google Drive to persist large files (models, datasets)\n",
        "from google.colab import drive\n",
        "drive.mount('/content/drive')\n",
        "EXP_ROOT = '/content/drive/MyDrive/cv-lab/experiments'  # change if needed\n",
        "\n",
        "import os, datetime\n",
        "exp_name = datetime.datetime.now().strftime('%Y-%m-%d') + '_cifar10_baseline'\n",
        "exp_dir = os.path.join(EXP_ROOT, exp_name)\n",
        "os.makedirs(exp_dir, exist_ok=True)\n",
        "print('Experiment dir:', exp_dir)\n"
      ]
    },
    {
      "cell_type": "code",
      "execution_count": null,
      "metadata": {},
      "outputs": [],
      "source": [
        "# Setup: PyTorch + CIFAR-10 (from tutorial)\n",
        "import torch, torchvision\n",
        "from torch import nn\n",
        "from torch.utils.data import DataLoader\n",
        "from torchvision import datasets, transforms\n",
        "\n",
        "transform = transforms.Compose([\n",
        "    transforms.ToTensor(),\n",
        "    transforms.Normalize((0.4914, 0.4822, 0.4465), (0.2023, 0.1994, 0.2010))\n",
        "])\n",
        "trainset = datasets.CIFAR10(root='/content/data', train=True, download=True, transform=transform)\n",
        "testset  = datasets.CIFAR10(root='/content/data', train=False, download=True, transform=transform)\n",
        "trainloader = DataLoader(trainset, batch_size=128, shuffle=True, num_workers=2)\n",
        "testloader  = DataLoader(testset, batch_size=256, shuffle=False, num_workers=2)\n",
        "device = 'cuda' if torch.cuda.is_available() else 'cpu'\n",
        "device\n"
      ]
    },
    {
      "cell_type": "code",
      "execution_count": null,
      "metadata": {},
      "outputs": [],
      "source": [
        "# Simple model (e.g., ResNet18 from torchvision)\n",
        "model = torchvision.models.resnet18(num_classes=10)\n",
        "model = model.to(device)\n",
        "criterion = nn.CrossEntropyLoss()\n",
        "optimizer = torch.optim.SGD(model.parameters(), lr=0.1, momentum=0.9, weight_decay=5e-4)\n"
      ]
    },
    {
      "cell_type": "code",
      "execution_count": null,
      "metadata": {},
      "outputs": [],
      "source": [
        "# Training loop (short)\n",
        "for epoch in range(2):\n",
        "    model.train()\n",
        "    running_loss = 0.0\n",
        "    for i, (inputs, targets) in enumerate(trainloader):\n",
        "        inputs, targets = inputs.to(device), targets.to(device)\n",
        "        optimizer.zero_grad()\n",
        "        outputs = model(inputs)\n",
        "        loss = criterion(outputs, targets)\n",
        "        loss.backward()\n",
        "        optimizer.step()\n",
        "        running_loss += loss.item()\n",
        "        if (i+1) % 50 == 0:\n",
        "            print(f\"[Epoch {epoch+1}] Step {i+1} Loss {running_loss/50:.4f}\")\n",
        "            running_loss = 0.0\n",
        "print('Done!')\n"
      ]
    },
    {
      "cell_type": "code",
      "execution_count": null,
      "metadata": {},
      "outputs": [],
      "source": [
        "# Save small artifacts (plots, metrics) to exp_dir\n",
        "import json\n",
        "metrics = {\"note\": \"Fill with accuracy etc.\"}\n",
        "with open(os.path.join(exp_dir, 'metrics.json'), 'w') as f:\n",
        "    json.dump(metrics, f, indent=2)\n",
        "\n",
        "# Save model to Drive (NOT to Git)\n",
        "torch.save(model.state_dict(), os.path.join(exp_dir, 'model.pth'))\n",
        "print('Saved metrics + model to', exp_dir)\n"
      ]
    }
  ],
  "metadata": {
    "kernelspec": {
      "display_name": "Python 3",
      "language": "python",
      "name": "python3"
    },
    "language_info": {
      "name": "python",
      "version": ""
    }
  },
  "nbformat": 4,
  "nbformat_minor": 5
}